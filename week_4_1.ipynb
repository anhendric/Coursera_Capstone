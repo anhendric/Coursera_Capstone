{
 "cells": [
  {
   "cell_type": "markdown",
   "metadata": {},
   "source": [
    "# Battle of Neighborhoods : Miami\n"
   ]
  },
  {
   "cell_type": "markdown",
   "metadata": {},
   "source": [
    "## 1. Introduction/Bussiness problem\n",
    "\n",
    "Miami is a coastal metropolis located in Miami-Dade County in southeastern Florida, United States. It is the forty second largest city in the United States. Miami, however, is one of the core cities in a metropolitan area which is the third most populous metropolis on the East coast of the United States, and it is the seventh largest in the country.\n",
    "\n",
    "I have a friend from this city that already has an italian restaurant in the neighborhoods of Overtown. Miami being a major center and leader in finance, commerce, culture, arts, and international trade, there is a big mixity in this city, and his restaurant has a lot of clients everyday and he is thinking about opening a second one, in another neighborhood, but don't really know what is the best location to open it and, of course, if the presumed best location won't already be saturated in italian restaurants. Thinking about it, we came with two questions that can be seen as data science problems :\n",
    "1. Which neighborhoods in Miami are very similar to Overtown ? \n",
    "2. In which of these neighborhood is the density of italian restaurants the smaller ?\n",
    "\n",
    "<center>\n",
    "<img src=\"https://upload.wikimedia.org/wikipedia/commons/thumb/f/fa/Miami_neighborhoodsmap.png/1280px-Miami_neighborhoodsmap.png\" width=700px>\n",
    "<br />Map of the neighborhoods of Miami.<br /><br />\n",
    "</center>\n",
    "\n",
    "\n",
    "\n",
    "Using FourSquare data and some machine learning technics, we will be able to get informations about the venues in each neighbordhood, then use some clustering technics to identify the similar neighborhood(s) to Overtown, and afterall compare the venues density in each of these neighborhoods to select to best place for my friend.\n",
    "\n",
    "Our methodology and insight could be, of course, useful for any future client that would like to open a new restaurant or food shop in Miami, regardless the type of food, as long as we're going to make our analysis as generic as possible."
   ]
  },
  {
   "cell_type": "markdown",
   "metadata": {},
   "source": [
    "## 2. Data description\n",
    "\n",
    "Here is the list of the data and API we are going to use to answer our questions :\n",
    "\n",
    "1. First we'll have to get the name, population, superficy and coordinates of the neighborhood in Miami. This will be done by webscrapping <a href=\"https://en.wikipedia.org/wiki/List_of_neighborhoods_in_Miami\">this wikipedia page</a>, using the `BeautifulSoup` python package;\n",
    "2. Then we are going to get informations about the venues in each neighborhood, using the `FourSquare` API. Each venue will be important, as there could be hidden relation between, for example, some kind of workplace and the number of client in a restaurant for lunch; We will also get cultural informations about each neighborhoods using <a href=\"https://www.miamiandbeaches.com/neighborhoods\">miamiandbeaches.com</a>;\n",
    "3. Once these data will be available, some clustering techniques will be used to get the list of the most similar neighborhoods to Overtown, by using the `scikit-learn` package;\n",
    "4. Finally, some visualisation plots (histogramm, scatter plot, ...) will be used to find the neighbordhood with the minimal density of Italian restaurants"
   ]
  }
 ],
 "metadata": {
  "kernelspec": {
   "display_name": "Python 3",
   "language": "python",
   "name": "python3"
  },
  "language_info": {
   "codemirror_mode": {
    "name": "ipython",
    "version": 3
   },
   "file_extension": ".py",
   "mimetype": "text/x-python",
   "name": "python",
   "nbconvert_exporter": "python",
   "pygments_lexer": "ipython3",
   "version": "3.5.2"
  },
  "widgets": {
   "state": {},
   "version": "1.1.2"
  }
 },
 "nbformat": 4,
 "nbformat_minor": 4
}
