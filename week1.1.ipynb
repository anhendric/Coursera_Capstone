{
 "cells": [
  {
   "cell_type": "markdown",
   "id": "surprised-hypothetical",
   "metadata": {},
   "source": [
    "# First notebook of coursera capstone\n",
    "\n",
    "This notebook has been created for the first pair-graded assignment of the Data Science Captstone project"
   ]
  },
  {
   "cell_type": "code",
   "execution_count": 2,
   "id": "accessible-mechanism",
   "metadata": {},
   "outputs": [],
   "source": [
    "import pandas as pd\n",
    "import numpy  as np"
   ]
  },
  {
   "cell_type": "code",
   "execution_count": null,
   "id": "departmental-entrance",
   "metadata": {},
   "outputs": [],
   "source": [
    "print(\"Hello Capstone Project Course!\")"
   ]
  }
 ],
 "metadata": {
  "kernelspec": {
   "display_name": "Python 3",
   "language": "python",
   "name": "python3"
  },
  "language_info": {
   "codemirror_mode": {
    "name": "ipython",
    "version": 3
   },
   "file_extension": ".py",
   "mimetype": "text/x-python",
   "name": "python",
   "nbconvert_exporter": "python",
   "pygments_lexer": "ipython3",
   "version": "3.5.2"
  }
 },
 "nbformat": 4,
 "nbformat_minor": 5
}
